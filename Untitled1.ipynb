{
 "cells": [
  {
   "cell_type": "code",
   "execution_count": 22,
   "id": "387a38ab",
   "metadata": {},
   "outputs": [],
   "source": [
    "import numpy as np\n",
    "import matplotlib.pyplot as plt\n",
    "%matplotlib inline\n",
    "# import japanize_matplotlib\n",
    "import scipy\n",
    "from scipy import stats\n",
    "from numpy.random import randn\n",
    "import copy\n",
    "from sklearn.datasets import load_iris\n",
    "from sklearn.datasets import load_boston"
   ]
  },
  {
   "cell_type": "code",
   "execution_count": 23,
   "id": "3fe9afb4",
   "metadata": {},
   "outputs": [],
   "source": [
    "def sq_loss(y):\n",
    "    if len(y)==0:\n",
    "        return 0\n",
    "    else:\n",
    "        y_bar=np.mean(y)\n",
    "    return np.linalg.norm(y-y_bar)**2"
   ]
  },
  {
   "cell_type": "code",
   "execution_count": 24,
   "id": "6ba72d48",
   "metadata": {},
   "outputs": [],
   "source": [
    "def branch(x,y,S,rf=0):\n",
    "    if rf==0:\n",
    "        m=x.shape[1]\n",
    "    if x.shape[0]==0:\n",
    "        return([0,0,0,0,0,0,0])\n",
    "    best_score=np.inf\n",
    "    for j in range(x.shape[1]):\n",
    "        for i in S:\n",
    "            left=[]; right=[]\n",
    "            for k in S:\n",
    "                if x[k,j]<x[i,j]:\n",
    "                    left.append(k)\n",
    "                else:\n",
    "                    right.append(k)\n",
    "            left_score=f(y[left]); right_score=f(y[right])\n",
    "            score=left_score+right_score\n",
    "            if score<best_score:\n",
    "                best_score=score\n",
    "                i_1=i; j_1=j\n",
    "                left_1=left; right_1=right\n",
    "                left_score_1=left_score; right_score_1=right_score\n",
    "    return [i_1,j_1,left_1,right_1,best_score,left_score_1,right_score_1]"
   ]
  },
  {
   "cell_type": "code",
   "execution_count": 25,
   "id": "eb58ba22",
   "metadata": {},
   "outputs": [],
   "source": [
    "class Stack:\n",
    "    def __init__(self,parent,set,score):\n",
    "        self.parent=parent\n",
    "        self.set=set\n",
    "        self.score=score"
   ]
  },
  {
   "cell_type": "code",
   "execution_count": 26,
   "id": "b8045bbf",
   "metadata": {},
   "outputs": [],
   "source": [
    "class Node:\n",
    "    def __init__(self,parent,j,th,set):\n",
    "        self.parent=parent\n",
    "        self.j=j\n",
    "        self.th=th\n",
    "        self.set=set"
   ]
  },
  {
   "cell_type": "code",
   "execution_count": 27,
   "id": "62a7ead4",
   "metadata": {},
   "outputs": [],
   "source": [
    "def dt(x,y,alpha=0,n_min=1,rf=0):\n",
    "    if rf==0:\n",
    "        m=x.shape[1]\n",
    "    # 1個からなるstackを構成。決定木を初期化\n",
    "    stack=[Stack(0,list(range(x.shape[0])),f(y))] # 関数fは大域\n",
    "    node=[]\n",
    "    k=-1\n",
    "    # stackの最後の要素を取り出して，決定木を更新する\n",
    "    while len(stack)>0:\n",
    "        popped=stack.pop()\n",
    "        k=k+1\n",
    "        i,j,left,right,score,left_score,right_score=branch(x,y,popped.set,rf)\n",
    "        if popped.score-score<alpha or len(popped.set)<n_min or len(left)==0 or len(right)==0:\n",
    "            node.append(Node(popped.parent,-1,0,popped.set))\n",
    "        else:\n",
    "            node.append(Node(popped.parent,j,x[i,j],popped.set))\n",
    "            stack.append(Stack(k,right,right_score))\n",
    "            stack.append(Stack(k,left,left_score))\n",
    "    # これより下でnode.left, node.rightの値を設定する\n",
    "    for h in range(k,-1,-1):\n",
    "        node[h].left=0; node[h].right=0;\n",
    "    for h in range(k,0,-1):\n",
    "        pa=node[h].parent\n",
    "        if node[pa].right==0:\n",
    "            node[pa].right=h\n",
    "        else:\n",
    "            node[pa].left=h\n",
    "    # これより下でnode.centerの値を計算する\n",
    "    if f==sq_loss:\n",
    "        g=np.mean\n",
    "    else:\n",
    "        g=mode_max\n",
    "    for h in range(k+1):\n",
    "        if node[h].j==-1:\n",
    "            node[h].center=g(y[node[h].set])\n",
    "        else:\n",
    "            node[h].center=0\n",
    "    return node   "
   ]
  },
  {
   "cell_type": "code",
   "execution_count": 28,
   "id": "e70b192c",
   "metadata": {},
   "outputs": [
    {
     "name": "stderr",
     "output_type": "stream",
     "text": [
      "/home/tanaka/.local/lib/python3.10/site-packages/sklearn/utils/deprecation.py:87: FutureWarning: Function load_boston is deprecated; `load_boston` is deprecated in 1.0 and will be removed in 1.2.\n",
      "\n",
      "    The Boston housing prices dataset has an ethical problem. You can refer to\n",
      "    the documentation of this function for further details.\n",
      "\n",
      "    The scikit-learn maintainers therefore strongly discourage the use of this\n",
      "    dataset unless the purpose of the code is to study and educate about\n",
      "    ethical issues in data science and machine learning.\n",
      "\n",
      "    In this special case, you can fetch the dataset from the original\n",
      "    source::\n",
      "\n",
      "        import pandas as pd\n",
      "        import numpy as np\n",
      "\n",
      "        data_url = \"http://lib.stat.cmu.edu/datasets/boston\"\n",
      "        raw_df = pd.read_csv(data_url, sep=\"\\s+\", skiprows=22, header=None)\n",
      "        data = np.hstack([raw_df.values[::2, :], raw_df.values[1::2, :2]])\n",
      "        target = raw_df.values[1::2, 2]\n",
      "\n",
      "    Alternative datasets include the California housing dataset (i.e.\n",
      "    :func:`~sklearn.datasets.fetch_california_housing`) and the Ames housing\n",
      "    dataset. You can load the datasets as follows::\n",
      "\n",
      "        from sklearn.datasets import fetch_california_housing\n",
      "        housing = fetch_california_housing()\n",
      "\n",
      "    for the California housing dataset and::\n",
      "\n",
      "        from sklearn.datasets import fetch_openml\n",
      "        housing = fetch_openml(name=\"house_prices\", as_frame=True)\n",
      "\n",
      "    for the Ames housing dataset.\n",
      "  warnings.warn(msg, category=FutureWarning)\n"
     ]
    },
    {
     "data": {
      "text/plain": [
       "37"
      ]
     },
     "execution_count": 28,
     "metadata": {},
     "output_type": "execute_result"
    }
   ],
   "source": [
    "boston=load_boston()\n",
    "X=boston.data\n",
    "y=boston.target\n",
    "f=sq_loss\n",
    "node=dt(X,y,n_min=50)\n",
    "len(node)"
   ]
  },
  {
   "cell_type": "code",
   "execution_count": 29,
   "id": "389589ba",
   "metadata": {},
   "outputs": [
    {
     "ename": "ModuleNotFoundError",
     "evalue": "No module named 'igraph'",
     "output_type": "error",
     "traceback": [
      "\u001b[0;31m---------------------------------------------------------------------------\u001b[0m",
      "\u001b[0;31mModuleNotFoundError\u001b[0m                       Traceback (most recent call last)",
      "Input \u001b[0;32mIn [29]\u001b[0m, in \u001b[0;36m<cell line: 1>\u001b[0;34m()\u001b[0m\n\u001b[0;32m----> 1\u001b[0m \u001b[38;5;28;01mfrom\u001b[39;00m \u001b[38;5;21;01migraph\u001b[39;00m \u001b[38;5;28;01mimport\u001b[39;00m \u001b[38;5;241m*\u001b[39m\n",
      "\u001b[0;31mModuleNotFoundError\u001b[0m: No module named 'igraph'"
     ]
    }
   ],
   "source": [
    "from igraph import *"
   ]
  },
  {
   "cell_type": "code",
   "execution_count": 30,
   "id": "2a4123f6",
   "metadata": {},
   "outputs": [
    {
     "data": {
      "text/plain": [
       "[[0, 5, 6.943],\n",
       " [1, 12, 14.43],\n",
       " [2, 7, 1.413],\n",
       " [3, -1, 0],\n",
       " [4, 5, 6.546],\n",
       " [5, 12, 7.6],\n",
       " [6, -1, 0],\n",
       " [7, 9, 223.0],\n",
       " [8, -1, 0],\n",
       " [9, 5, 6.083],\n",
       " [10, 6, 69.5],\n",
       " [11, 7, 4.4986],\n",
       " [12, -1, 0],\n",
       " [13, -1, 0],\n",
       " [14, -1, 0],\n",
       " [15, 12, 10.15],\n",
       " [16, -1, 0],\n",
       " [17, -1, 0],\n",
       " [18, 9, 273.0],\n",
       " [19, -1, 0],\n",
       " [20, -1, 0],\n",
       " [22, 4, 0.538],\n",
       " [23, -1, 0],\n",
       " [24, 12, 19.01],\n",
       " [25, 6, 85.7],\n",
       " [26, -1, 0],\n",
       " [27, -1, 0],\n",
       " [28, -1, 0],\n",
       " [29, 4, 0.614],\n",
       " [30, -1, 0],\n",
       " [31, 12, 19.77],\n",
       " [32, -1, 0],\n",
       " [33, -1, 0],\n",
       " [34, 5, 7.454],\n",
       " [35, -1, 0],\n",
       " [36, -1, 0]]"
      ]
     },
     "execution_count": 30,
     "metadata": {},
     "output_type": "execute_result"
    }
   ],
   "source": [
    "r=len(node)\n",
    "edge=[]\n",
    "for h in range(1,r):\n",
    "    edge.append([node[h].parent,h])\n",
    "TAB=[];\n",
    "for h in range(r):\n",
    "    if not node[h].j==0:\n",
    "        TAB.append([h,node[h].j,node[h].th])\n",
    "TAB"
   ]
  },
  {
   "cell_type": "code",
   "execution_count": 35,
   "id": "05f26e5e",
   "metadata": {},
   "outputs": [],
   "source": [
    "def draw_graph(node):\n",
    "    r=len(node)\n",
    "    col=[]\n",
    "    for h in range(r):\n",
    "        col.append(node[h].j)\n",
    "    colorlist=['#ffffff','#fff8ff','#fcf9ce','#d6fada','#d7ffff','#d9f2f8','#fac8be','#ffebff','#ffffe0','#fdf5e6','#fac8be','#f8ecd5','#ee82ee']\n",
    "    color=[colorlist[col[i]] for i in range(r)]\n",
    "    edge=[]\n",
    "    for h in range(1,r):\n",
    "        edge.append([node[h].parent,h])\n",
    "        g=Graph(edges=edge,directed=True)\n",
    "        layout=g.layout_reingold_tilford(root=[0])\n",
    "    out=plot(g,vertex_size=15,layout=layout,bbox=(300,300),vertex_label=list(range(r)),vertex_color=color)\n",
    "    return out"
   ]
  },
  {
   "cell_type": "code",
   "execution_count": 36,
   "id": "cfc20dd8",
   "metadata": {},
   "outputs": [
    {
     "ename": "NameError",
     "evalue": "name 'graph' is not defined",
     "output_type": "error",
     "traceback": [
      "\u001b[0;31m---------------------------------------------------------------------------\u001b[0m",
      "\u001b[0;31mNameError\u001b[0m                                 Traceback (most recent call last)",
      "Input \u001b[0;32mIn [36]\u001b[0m, in \u001b[0;36m<cell line: 1>\u001b[0;34m()\u001b[0m\n\u001b[0;32m----> 1\u001b[0m \u001b[43mdraw_graph\u001b[49m\u001b[43m(\u001b[49m\u001b[43mnode\u001b[49m\u001b[43m)\u001b[49m\n",
      "Input \u001b[0;32mIn [35]\u001b[0m, in \u001b[0;36mdraw_graph\u001b[0;34m(node)\u001b[0m\n\u001b[1;32m      9\u001b[0m \u001b[38;5;28;01mfor\u001b[39;00m h \u001b[38;5;129;01min\u001b[39;00m \u001b[38;5;28mrange\u001b[39m(\u001b[38;5;241m1\u001b[39m,r):\n\u001b[1;32m     10\u001b[0m     edge\u001b[38;5;241m.\u001b[39mappend([node[h]\u001b[38;5;241m.\u001b[39mparent,h])\n\u001b[0;32m---> 11\u001b[0m     g\u001b[38;5;241m=\u001b[39m\u001b[43mgraph\u001b[49m(edges\u001b[38;5;241m=\u001b[39medge,directed\u001b[38;5;241m=\u001b[39m\u001b[38;5;28;01mTrue\u001b[39;00m)\n\u001b[1;32m     12\u001b[0m     layout\u001b[38;5;241m=\u001b[39mg\u001b[38;5;241m.\u001b[39mlayout_reingold_tilford(root\u001b[38;5;241m=\u001b[39m[\u001b[38;5;241m0\u001b[39m])\n\u001b[1;32m     13\u001b[0m out\u001b[38;5;241m=\u001b[39mplot(g,vertex_size\u001b[38;5;241m=\u001b[39m\u001b[38;5;241m15\u001b[39m,layout\u001b[38;5;241m=\u001b[39mlayout,bbox\u001b[38;5;241m=\u001b[39m(\u001b[38;5;241m300\u001b[39m,\u001b[38;5;241m300\u001b[39m),vertex_label\u001b[38;5;241m=\u001b[39m\u001b[38;5;28mlist\u001b[39m(\u001b[38;5;28mrange\u001b[39m(r)),vertex_color\u001b[38;5;241m=\u001b[39mcolor)\n",
      "\u001b[0;31mNameError\u001b[0m: name 'graph' is not defined"
     ]
    }
   ],
   "source": [
    "draw_graph(node)"
   ]
  },
  {
   "cell_type": "code",
   "execution_count": null,
   "id": "3b831e02",
   "metadata": {},
   "outputs": [],
   "source": []
  }
 ],
 "metadata": {
  "kernelspec": {
   "display_name": "Python 3 (ipykernel)",
   "language": "python",
   "name": "python3"
  },
  "language_info": {
   "codemirror_mode": {
    "name": "ipython",
    "version": 3
   },
   "file_extension": ".py",
   "mimetype": "text/x-python",
   "name": "python",
   "nbconvert_exporter": "python",
   "pygments_lexer": "ipython3",
   "version": "3.10.4"
  }
 },
 "nbformat": 4,
 "nbformat_minor": 5
}
